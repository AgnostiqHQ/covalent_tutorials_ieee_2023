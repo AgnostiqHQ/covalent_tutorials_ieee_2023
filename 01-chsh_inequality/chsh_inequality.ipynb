{
 "cells": [
  {
   "cell_type": "markdown",
   "metadata": {},
   "source": [
    "## Obtaining and IBM Quantum User Token\n",
    "\n",
    "The executor’s `ibmqx_token` argument can be omitted if provided in the Covalent configuration file (typically at `~/.config/covalent/covalent.conf`).\n",
    "\n",
    "First we'll need to obtain a token from IBM Quantum:\n",
    "\n",
    "1. Navigate to https://www.ibm.com/quantum\n",
    "2. Click on \"Launch IBM Quantum\" in the top right corner.\n",
    "3. To create an account, click on \"Create an IBMid\" and follow the instructions.\n",
    "4. Once you have an account, log in and copy the **API Token** shown on your dashboard.\n",
    "\n",
    "---"
   ]
  },
  {
   "cell_type": "markdown",
   "metadata": {},
   "source": [
    "\n",
    "## Using Covalent's Config File\n",
    "\n",
    "✅ **Run the following to generate the initial config file:**\n",
    "```bash\n",
    "$ covalent start\n",
    "```\n",
    "\n",
    "Next, paste the token into the covalent configuration file (`~/.config/covalent/covalent.conf`):\n",
    "\n",
    "1. Open the file in your favorite editor and locate the `[qelectron.QiskitExecutor]` section.\n",
    "2. Paste your token into the `ibmqx_token` field.\n",
    "\n",
    "These are the *default* settings for Covalent -- no need to modify anything else.\n",
    "\n",
    "```bash\n",
    "...\n",
    "\n",
    "[qelectron.QiskitExecutor]\n",
    "device = \"local_sampler\"\n",
    "backend = \"ibmq_qasm_simulator\"\n",
    "ibmqx_token = \"<TOKEN>\"  # <--- Paste your token here\n",
    "hub = \"ibm-q\"\n",
    "group = \"open\"\n",
    "project = \"main\"\n",
    "\n",
    "...\n",
    "```\n",
    "\n",
    "✅ **To use the modified config file, run**\n",
    "```bash\n",
    "$ covalent restart\n",
    "```\n",
    "---"
   ]
  },
  {
   "cell_type": "markdown",
   "metadata": {},
   "source": [
    "# Violating of the CHSH Inequality on IBM Quantum Backends"
   ]
  },
  {
   "cell_type": "markdown",
   "metadata": {},
   "source": [
    "# Background\n",
    "\n",
    "The [CHSH inequality](https://en.wikipedia.org/wiki/CHSH_inequality) is an important result related to [Bell’s theorem](https://en.wikipedia.org/wiki/Bell%27s_theorem), which shows that quantum mechanics is incompatible with [local hidden-variable theories](https://en.wikipedia.org/wiki/Local_hidden-variable_theory). This means that there are results in quantum mechanics (see the [Einstein-Podolsky-Rosen paradox](https://en.wikipedia.org/wiki/Einstein%E2%80%93Podolsky%E2%80%93Rosen_paradox)) which cannot be explained by some unknown parameters that are local to the system being observed.\n",
    "\n",
    "There are simple experiments on quantum computers that can show violation of the CHSH inequality. These experiments involve running computations on systems of *entangled* qubits. With Covalent QElectrons and free access to IBM Quantum backends, we can easily do this.\n",
    "\n",
    "## The CHSH Inequality\n",
    "\n",
    "Physical systems that ************are************ compatible with local hidden variables must obey the following inequality.\n",
    "\n",
    "$$\n",
    "|\\langle S_{\\mp} \\rangle| = |\\langle AB \\rangle  \\mp \\langle Ab \\rangle \\pm \\langle aB \\rangle + \\langle ab \\rangle| \\leq 2 \\qquad (1)\n",
    "$$\n",
    "\n",
    "Here, $\\langle \\, \\cdot \\, \\rangle$ refers to the expectation value of some observable. The value $\\langle AB \\rangle$, for example, is the average outcome of an experiment involving an $A$-basis measurement on the first qubit and a $B$-basis measurement on the second.\n",
    "\n",
    "Testing the CHSH inequality requires two *different* measurement bases for each qubit, or four two-qubit measurement bases for the entire system. In our experiment, we take $b$ and $B$ to be the Pauli $Z$ and $X$ bases, while $a$ and $A$ taken to be the bases $Z^\\prime$ and $X^\\prime$. Crucially, the latter two are rotated (in the same plane) by some angle $\\theta$ relative to $Z$ and $X$.\n",
    "\n",
    "## Experimental Demonstration of Bell’s Theorem\n",
    "\n",
    "Our goal here will be to verify that the CHSH inequality $(1)$ is violated by a quantum system of two entangled qubits.\n"
   ]
  },
  {
   "cell_type": "markdown",
   "metadata": {},
   "source": [
    "\n",
    "# Procedure\n",
    "\n",
    "This will involve the following steps:\n",
    "\n",
    "1. Prepare the two-qubit system in a [Bell state](https://en.wikipedia.org/wiki/Bell_state).\n",
    "2. Apply $Y$-rotation by an angle $\\theta$ to the first qubit only.\n",
    "3. Measure the system in the $ZZ$, $ZX$, $XZ$,  or $XX$ basis.\n",
    "4. Repeat steps 1-3 many times to estimate the expectation value.\n",
    "5. Repeat steps 1-4 to obtain estimates for all four bases which are used to compute  $\\langle S_{\\mp} \\rangle$. \n",
    "\n",
    "Note that $Y$-rotating the first qubit before measurement is equivalent here to measuring that qubit in a *rotated basis.* Therefore, the expectation values we obtain are indeed the $\\langle Z^\\prime Z \\rangle$, $\\langle Z^\\prime X \\rangle$, $\\langle X^\\prime Z \\rangle$,  and $\\langle X^\\prime X \\rangle$ required to compute $|\\langle S_{\\mp} \\rangle|$."
   ]
  },
  {
   "cell_type": "markdown",
   "metadata": {},
   "source": [
    "\n",
    "# Quantum Circuit\n",
    "\n",
    "The circuit we need is one that prepares a [Bell state](https://en.wikipedia.org/wiki/Bell_state):\n",
    "\n",
    "$$\n",
    "|\\Phi^{+}\\rangle = \\frac{1}{\\sqrt{2}}(|00\\rangle + |11\\rangle)\n",
    "$$\n",
    "\n",
    "Briefly, the state $|\\Phi^{+}\\rangle$ is said to be “maximally entangled” because measuring either qubit will determine the measurement outcome of the other with perfect accuracy (when both qubits are measured in the same basis). This is easy to verify by looking at the basis states that make up $|\\Phi^{+}\\rangle$. \n",
    "\n",
    "State preparation is straightforward. Starting with the $|00\\rangle$ state, applying a Hadamard on the first qubit, followed by a CNOT gate produces $|\\Phi^{+}\\rangle$. We also apply an additional $Y$-rotation of the first qubit by $\\theta$ to control offset between the respective measurements."
   ]
  },
  {
   "cell_type": "code",
   "execution_count": null,
   "metadata": {},
   "outputs": [],
   "source": [
    "import pennylane as qml\n",
    "\n",
    "observables = [\n",
    "    qml.PauliZ(0) @ qml.PauliZ(1),\n",
    "    qml.PauliZ(0) @ qml.PauliX(1),\n",
    "    qml.PauliX(0) @ qml.PauliZ(1),\n",
    "    qml.PauliX(0) @ qml.PauliX(1),\n",
    "]\n",
    "\n",
    "dev = qml.device(\"default.qubit\", wires=2, shots=8192)\n",
    "\n",
    "\n",
    "@qml.qnode(dev)\n",
    "def chsh_circuit(theta):\n",
    "    # Prepare Bell state.\n",
    "    qml.Hadamard(wires=0)\n",
    "    qml.CNOT(wires=[0, 1])\n",
    "\n",
    "    # Apply Y-rotation by angle `theta`.\n",
    "    qml.RY(theta, wires=0)\n",
    "\n",
    "    # Multiple returns to get all 4 expectation values.\n",
    "    return [qml.expval(obs) for obs in observables]"
   ]
  },
  {
   "cell_type": "markdown",
   "metadata": {},
   "source": [
    "# Creating QElectrons\n",
    "\n",
    "With the code above, we can easily perform a *simulated* version of this experiment using regular Pennylane. To make for a more interesting experiment, we can use Covalent QElectrons to try this on various IBM QPUs.\n",
    "\n",
    "For example, a QElectron that runs on `\"ibmq_lima\"` is defined below.\n",
    "\n",
    "```python\n",
    "# Define a quantum executor that targets the \"ibmq_lima\" QPU.\n",
    "ibmq_lima = ct.executor.QiskitExecutor(\n",
    "    device=\"sampler\",\n",
    "    backend=\"ibmq_lima\",\n",
    "    single_job=True,\n",
    "    ibmqx_token=\"<token>\",\n",
    "    # hub=\"ibm-q\",\n",
    "    # group=\"open\",\n",
    "    # project=\"main\",\n",
    ")\n",
    "\n",
    "@ct.qelectron(executors=ibmq_lima)  # <-- add this decorator on top of a QNode\n",
    "@qml.qnode(device)\n",
    "def my_quantum_circuit(params):\n",
    "    ...\n",
    "```"
   ]
  },
  {
   "cell_type": "markdown",
   "metadata": {},
   "source": [
    "\n",
    "# Creating QElectrons (alt.)\n",
    "Equivalently (avoiding the syntax sugar), we can define a QElectron as follows.\n",
    "\n",
    "```python\n",
    "@qml.qnode(device)\n",
    "def my_quantum_circuit(params):\n",
    "    ...\n",
    "\n",
    "# Use the decorator as a function.\n",
    "my_qelectron = ct.qelectron(my_quantum_circuit, executors=ibmq_lima)\n",
    "```"
   ]
  },
  {
   "cell_type": "markdown",
   "metadata": {},
   "source": [
    "# Quantum Executors\n",
    "\n",
    "NOTE: we're assuming `ibmqx_token` is provided in Covalent configuration."
   ]
  },
  {
   "cell_type": "code",
   "execution_count": null,
   "metadata": {},
   "outputs": [],
   "source": [
    "import covalent as ct\n",
    "\n",
    "# Define a quantum executor that targets \"ibm_lagos\" QPU.\n",
    "ibm_lagos = ct.executor.QiskitExecutor(\n",
    "    device=\"sampler\",\n",
    "    backend=\"ibm_lagos\",\n",
    "    single_job=True,\n",
    ")\n",
    "\n",
    "# Define quantum executors for two IBM simulators.\n",
    "# the QASM simulator...\n",
    "ibmq_qasm_simulator = ct.executor.QiskitExecutor(\n",
    "    device=\"sampler\",\n",
    "    backend=\"ibmq_qasm_simulator\",\n",
    ")\n",
    "\n",
    "# the statevector simulator...\n",
    "simulator_statevector = ct.executor.QiskitExecutor(\n",
    "    device=\"sampler\",\n",
    "    backend=\"simulator_statevector\",\n",
    ")"
   ]
  },
  {
   "cell_type": "markdown",
   "metadata": {},
   "source": [
    "# Covalent Tasks\n",
    "\n",
    "Let’s use these executors in a Covalent workflow that tests the CHSH inequality. To briefly outline the workflow, we have\n",
    "\n",
    "- a task that runs the experiment on `\"ibmq_lima\"`\n",
    "- a task that runs the experiment on `\"ibm_lagos\"`\n",
    "- a task that uses both `\"ibmq_qasm_simulator\"` and `\"simulator_statevector\"` as a *Quantum Cluster*, distributing circuits evenly between the two.\n",
    "\n",
    "Finally, the `compute_S_mp()` task uses the estimated expectation values to calculate $\\langle S_{\\mp} \\rangle$ for all three cases."
   ]
  },
  {
   "cell_type": "code",
   "execution_count": null,
   "metadata": {},
   "outputs": [],
   "source": [
    "from pennylane import numpy as np\n",
    "import covalent as ct\n",
    "\n",
    "\n",
    "@ct.electron\n",
    "def get_thetas():\n",
    "    \"\"\"Generates a range of angles `theta`.\"\"\"\n",
    "    return np.linspace(0, 2 * np.pi, 25)\n",
    "\n",
    "\n",
    "@ct.electron\n",
    "def chsh_on_lima(thetas):\n",
    "    \"\"\"Runs the angle sweep on 'ibmq_lima' QPU.\"\"\"\n",
    "    qelectron = ct.qelectron(chsh_circuit, executors=ibmq_lima)\n",
    "    expvals_list = qelectron(thetas)\n",
    "    return np.asarray(expvals_list)\n",
    "\n",
    "\n",
    "@ct.electron\n",
    "def chsh_on_lagos(thetas):\n",
    "    \"\"\"Runs the angle sweep on 'ibm_lagos' QPU.\"\"\"\n",
    "    qelectron = ct.qelectron(chsh_circuit, executors=ibm_lagos)\n",
    "    expvals_list = qelectron(thetas)\n",
    "    return np.asarray(expvals_list)\n",
    "\n",
    "\n",
    "@ct.electron\n",
    "def chsh_on_simulators(thetas):\n",
    "    \"\"\"\n",
    "    Uses a cluster of of two simulators to run the angle sweep.\n",
    "    \"\"\"\n",
    "    executors = [ibmq_qasm_simulator, simulator_statevector]\n",
    "    qelectron = ct.qelectron(chsh_circuit, executors=executors)\n",
    "    expvals_list = qelectron(thetas)\n",
    "    return np.asarray(expvals_list)\n",
    "\n",
    "\n",
    "@ct.electron\n",
    "def compute_S_mp(expvals: dict):\n",
    "    \"\"\"Computes S_mins and S_plus from Equation (1).\"\"\"\n",
    "    results = {}\n",
    "    for name, expvals_arr in expvals.items():\n",
    "\n",
    "        AB, Ab, aB, ab = expvals_arr\n",
    "        S_minus = AB - Ab + aB + ab\n",
    "        S_plus = AB + Ab - aB + ab\n",
    "        results[name] = (S_minus, S_plus)\n",
    "\n",
    "    return results"
   ]
  },
  {
   "cell_type": "markdown",
   "metadata": {},
   "source": [
    "# Covalent Workflow\n",
    "\n",
    "Define a *lattice* function that uses the above tasks."
   ]
  },
  {
   "cell_type": "code",
   "execution_count": null,
   "metadata": {},
   "outputs": [],
   "source": [
    "@ct.lattice\n",
    "def workflow():\n",
    "    thetas = get_thetas()\n",
    "    expvals = {}\n",
    "\n",
    "    # QPU experiments.\n",
    "    expvals[\"lima\"] = chsh_on_lima(thetas)\n",
    "    expvals[\"lagos\"] = chsh_on_lagos(thetas)\n",
    "\n",
    "    # Simulator experiment.\n",
    "    expvals[\"simulators\"] = chsh_on_simulators(thetas)\n",
    "\n",
    "    # Evaluate the CHSH inequality.\n",
    "    results = compute_S_mp(expvals)\n",
    "\n",
    "    return thetas, expvals, results"
   ]
  },
  {
   "cell_type": "markdown",
   "metadata": {},
   "source": [
    "# Dispatch"
   ]
  },
  {
   "cell_type": "code",
   "execution_count": null,
   "metadata": {},
   "outputs": [],
   "source": [
    "dispatch_id = ct.dispatch(workflow)()\n",
    "print(dispatch_id)\n",
    "thetas, expvals, results = ct.get_result(dispatch_id, wait=True).result"
   ]
  },
  {
   "cell_type": "markdown",
   "metadata": {},
   "source": [
    "# Covalent UI\n",
    "\n",
    "Looking at the Covalent UI, we can see that the simulator experiments completed in ~1 minute. The QPU experiments (`chsh_on_lagos()` and `chsh_on_lima()`) can take much longer depending on the queue times for the two devices. In our workflow, Covalent mitigates this at the task level, with both tasks queueing for QPUs at the same time.\n",
    "\n",
    "<img src=\"https://drive.google.com/uc?id=1dvrhgRRdTwTGp3QTKm_SQ3rBVzsaCns_\" alt=\"Covalent UI Pending\">"
   ]
  },
  {
   "cell_type": "markdown",
   "metadata": {},
   "source": [
    "# IBM Quantum UI\n",
    "\n",
    "<img src=\"https://drive.google.com/uc?id=11YSUJbQxppHODVu1wLhEK1kZt1dKtKpW\" alt=\"IBM Quantum Jobs Queue\">"
   ]
  },
  {
   "cell_type": "markdown",
   "metadata": {},
   "source": [
    "<img src=\"https://drive.google.com/uc?id=11UGiKtJu2QmqSBGOq5d7pqxuohM5TiyJ\" alt=\"Covalent UI Complete\">"
   ]
  },
  {
   "cell_type": "markdown",
   "metadata": {},
   "source": [
    "# Results Analysis\n",
    "\n",
    "The workflow results are plotted below.\n",
    "\n",
    "Four curves inhabit each subplot. The dashed and dotted grey lines represent $\\langle S_{-} \\rangle$ and $\\langle S_{+} \\rangle$ from the cluster of *********simulators.********* These curves are shown on both subplots for comparison. The orange and purples lines represent  $\\langle S_{-} \\rangle$ and $\\langle S_{+} \\rangle$ for `\"ibmq_lima\"`  on the left, and similarly for `\"ibm_lagos\"` on the right."
   ]
  },
  {
   "cell_type": "code",
   "execution_count": null,
   "metadata": {},
   "outputs": [],
   "source": [
    "import matplotlib.pyplot as plt\n",
    "from matplotlib.ticker import MultipleLocator\n",
    "\n",
    "\n",
    "def plot_results(thetas: np.ndarray, results: dict):\n",
    "    \"\"\"Visualizes the results of the CHSH experiment.\"\"\"\n",
    "\n",
    "    lims_c = [-2, 2]\n",
    "    lims_q = [y * np.sqrt(2) for y in lims_c]\n",
    "\n",
    "    fig, axes = plt.subplots(ncols=2, figsize=(9, 4))\n",
    "\n",
    "    for ax in axes:\n",
    "        # Show classical and quantum bounds for S_minus and S_plus.\n",
    "        ax.axhline(lims_q[0], ls=\"--\", c=\"k\")\n",
    "        ax.axhline(lims_c[0], ls=\"-.\", c=\"k\")\n",
    "        ax.axhline(lims_c[1], ls=\"-.\", c=\"k\")\n",
    "        ax.axhline(lims_q[1], ls='--', c=\"k\")\n",
    "        ax.fill_between([-1, 7], lims_c[1], lims_q[1], color=\"green\", alpha=.1)\n",
    "        ax.fill_between([-1, 7], lims_q[0], lims_c[0], color=\"green\", alpha=.1)\n",
    "\n",
    "        # Plot simulators results on both subplots.\n",
    "        S_minus, S_plus = results[\"simulators\"]\n",
    "        ax.plot(thetas, S_minus, ls=\":\", label=r\"$\\langle S_{-} \\rangle$ (sim.)\", color=\"darkgrey\")\n",
    "        ax.plot(thetas, S_plus, ls=\"--\", label=r\"$\\langle S_{+} \\rangle$ (sim.)\", color=\"darkgrey\")\n",
    "\n",
    "        ax.set_xlabel(r\"$\\theta$\", fontsize=12)\n",
    "        ax.set_xlim(0 - np.pi / 4, 2 * np.pi + np.pi / 4)\n",
    "        ax.xaxis.set_major_locator(MultipleLocator(np.pi / 2))\n",
    "        ax.grid(alpha=.3)\n",
    "\n",
    "    # Plot results from \"ibmq_lima\".\n",
    "    S_minus, S_plus = results[\"lima\"]\n",
    "    axes[0].plot(thetas, S_minus, \"o-\", label=r\"$\\langle S_{-} \\rangle$\", color=\"darkorange\")\n",
    "    axes[0].plot(thetas, S_plus, \"s-\", label=r\"$\\langle S_{+} \\rangle$\", color=\"slateblue\")\n",
    "    axes[0].set_title(\"IBMQ LIMA\")\n",
    "\n",
    "    # Plot results from \"ibmq_lagos\".\n",
    "    S_minus, S_plus = results[\"lagos\"]\n",
    "    axes[1].plot(thetas, S_minus, \"o-\", label=r\"$\\langle S_{-} \\rangle$\", color=\"darkorange\")\n",
    "    axes[1].plot(thetas, S_plus, \"s-\", label=r\"$\\langle S_{+} \\rangle$\", color=\"slateblue\")\n",
    "    axes[1].set_title(\"IBM LAGOS\")\n",
    "\n",
    "    # Make the legend.\n",
    "    handles, labels = axes[1].get_legend_handles_labels()\n",
    "    fig.legend(handles, labels, loc=\"upper center\", fontsize=10, ncols=4, frameon=False)\n",
    "    fig.subplots_adjust(top=.8)"
   ]
  },
  {
   "cell_type": "markdown",
   "metadata": {},
   "source": [
    "<img src=\"https://drive.google.com/uc?id=1oLpqk3ARgMqRC7xQMbvJtH8iqy1-axu7\" alt=\"Results Plot\" width=\"60%\">"
   ]
  }
 ],
 "metadata": {
  "kernelspec": {
   "display_name": "chsh_demo_ieee",
   "language": "python",
   "name": "python3"
  },
  "language_info": {
   "codemirror_mode": {
    "name": "ipython",
    "version": 3
   },
   "file_extension": ".py",
   "mimetype": "text/x-python",
   "name": "python",
   "nbconvert_exporter": "python",
   "pygments_lexer": "ipython3",
   "version": "3.9.18"
  },
  "orig_nbformat": 4
 },
 "nbformat": 4,
 "nbformat_minor": 2
}
